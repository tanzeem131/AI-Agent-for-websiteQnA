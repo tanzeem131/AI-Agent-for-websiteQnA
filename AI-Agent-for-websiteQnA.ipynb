{
  "nbformat": 4,
  "nbformat_minor": 0,
  "metadata": {
    "colab": {
      "provenance": [],
      "authorship_tag": "ABX9TyM8g+cHQYG7xQoyVPVt1nyX",
      "include_colab_link": true
    },
    "kernelspec": {
      "name": "python3",
      "display_name": "Python 3"
    },
    "language_info": {
      "name": "python"
    }
  },
  "cells": [
    {
      "cell_type": "markdown",
      "metadata": {
        "id": "view-in-github",
        "colab_type": "text"
      },
      "source": [
        "<a href=\"https://colab.research.google.com/github/tanzeem131/AI-Agent-for-websiteQnA/blob/main/AI-Agent-for-websiteQnA.ipynb\" target=\"_parent\"><img src=\"https://colab.research.google.com/assets/colab-badge.svg\" alt=\"Open In Colab\"/></a>"
      ]
    },
    {
      "cell_type": "code",
      "execution_count": null,
      "metadata": {
        "collapsed": true,
        "id": "sqApKK1gcISg"
      },
      "outputs": [],
      "source": [
        "!pip install langchain_community\n",
        "!pip install langchain-google-genai google-generativeai\n",
        "!pip install -U duckduckgo-search"
      ]
    },
    {
      "cell_type": "code",
      "source": [
        "import os\n",
        "from google.colab import userdata\n",
        "\n",
        "import requests\n",
        "from bs4 import BeautifulSoup\n",
        "\n",
        "# For creating AI agents\n",
        "from langchain.agents import initialize_agent,Tool,AgentType\n",
        "# from langchain.chat_models import ChatOpenAI\n",
        "from langchain_google_genai import ChatGoogleGenerativeAI"
      ],
      "metadata": {
        "id": "Ln17tiMbcrPI"
      },
      "execution_count": 2,
      "outputs": []
    },
    {
      "cell_type": "code",
      "source": [
        "os.environ[\"GOOGLE_API_KEY\"] = userdata.get(\"gemini\")"
      ],
      "metadata": {
        "id": "ITxvdFBjeBza"
      },
      "execution_count": 3,
      "outputs": []
    },
    {
      "cell_type": "markdown",
      "source": [
        "Extract text from URL"
      ],
      "metadata": {
        "id": "jGwWjuwnefe7"
      }
    },
    {
      "cell_type": "code",
      "source": [
        "def extract_website_text(url):\n",
        "  response=requests.get(url)\n",
        "  soup=BeautifulSoup(response.text,\"html.parser\")\n",
        "  return soup.get_text()"
      ],
      "metadata": {
        "id": "bPPMeX1feXjH"
      },
      "execution_count": 4,
      "outputs": []
    },
    {
      "cell_type": "markdown",
      "source": [
        "Creating Q and A for tool for agent"
      ],
      "metadata": {
        "id": "rZqjSuxhfzHo"
      }
    },
    {
      "cell_type": "code",
      "source": [
        "#define func for processing user input\n",
        "def website_qa_tool(url_and_question):\n",
        "  url,question=url_and_question.split('|',1)\n",
        "  content=extract_website_text(url.strip())\n",
        "  prompt=f\"Anser this question using the content in the website:\\n\\n{question.strip()}\\n\\nContent:\\n{content[:6000]}\"\n",
        "  # llm=ChatOpenAI()\n",
        "  llm = ChatGoogleGenerativeAI(model=\"gemini-2.0-flash\")\n",
        "  return llm.predict(prompt)\n",
        "\n",
        "#creating tool for agent\n",
        "tool = Tool(\n",
        "    name=\"WebsiteQnA\",\n",
        "    func=website_qa_tool,\n",
        "    description=\"Input format: '<Website URL>|<your questions>'. Use this tool to ask questions about website's content.\"\n",
        ")\n"
      ],
      "metadata": {
        "id": "zAqUiL6YfwtY"
      },
      "execution_count": 5,
      "outputs": []
    },
    {
      "cell_type": "markdown",
      "source": [
        "Initializing the Agent"
      ],
      "metadata": {
        "id": "kYVwUyKTlo9V"
      }
    },
    {
      "cell_type": "code",
      "source": [
        "agent=initialize_agent(\n",
        "    tools=[tool],\n",
        "    # llm=ChatOpenAI(),\n",
        "    llm=ChatGoogleGenerativeAI(model=\"gemini-2.0-flash\"),\n",
        "    agent=AgentType.ZERO_SHOT_REACT_DESCRIPTION,\n",
        "    verbose=True,\n",
        "    handle_parsing_errors=True,\n",
        ")"
      ],
      "metadata": {
        "colab": {
          "base_uri": "https://localhost:8080/"
        },
        "id": "E1vfMT7plomX",
        "outputId": "b84a1a3c-f16b-48e8-8f4a-a746826fd712"
      },
      "execution_count": 6,
      "outputs": [
        {
          "output_type": "stream",
          "name": "stderr",
          "text": [
            "/tmp/ipython-input-340985304.py:1: LangChainDeprecationWarning: LangChain agents will continue to be supported, but it is recommended for new use cases to be built with LangGraph. LangGraph offers a more flexible and full-featured framework for building agents, including support for tool-calling, persistence of state, and human-in-the-loop workflows. For details, refer to the `LangGraph documentation <https://langchain-ai.github.io/langgraph/>`_ as well as guides for `Migrating from AgentExecutor <https://python.langchain.com/docs/how_to/migrate_agent/>`_ and LangGraph's `Pre-built ReAct agent <https://langchain-ai.github.io/langgraph/how-tos/create-react-agent/>`_.\n",
            "  agent=initialize_agent(\n"
          ]
        }
      ]
    },
    {
      "cell_type": "markdown",
      "source": [
        "Running the agent"
      ],
      "metadata": {
        "id": "p8jIL8CRmt04"
      }
    },
    {
      "cell_type": "code",
      "source": [
        "print(agent.run(\"https://www.ibm.com/think/topics/machine-learning | Explain Machine learning in short.\"))"
      ],
      "metadata": {
        "colab": {
          "base_uri": "https://localhost:8080/"
        },
        "id": "s_JD-DXBmtWP",
        "outputId": "e254872c-41a8-42d3-b45b-b51bdd84d4ce"
      },
      "execution_count": 7,
      "outputs": [
        {
          "output_type": "stream",
          "name": "stderr",
          "text": [
            "/tmp/ipython-input-1564996917.py:1: LangChainDeprecationWarning: The method `Chain.run` was deprecated in langchain 0.1.0 and will be removed in 1.0. Use :meth:`~invoke` instead.\n",
            "  print(agent.run(\"https://www.ibm.com/think/topics/machine-learning | Explain Machine learning in short.\"))\n"
          ]
        },
        {
          "output_type": "stream",
          "name": "stdout",
          "text": [
            "\n",
            "\n",
            "\u001b[1m> Entering new AgentExecutor chain...\u001b[0m\n",
            "\u001b[32;1m\u001b[1;3mI need to summarize the content of the given URL to explain machine learning in short.\n",
            "Action: WebsiteQnA\n",
            "Action Input: https://www.ibm.com/think/topics/machine-learning | Explain Machine learning in short.\u001b[0m"
          ]
        },
        {
          "output_type": "stream",
          "name": "stderr",
          "text": [
            "/tmp/ipython-input-2346778668.py:8: LangChainDeprecationWarning: The method `BaseChatModel.predict` was deprecated in langchain-core 0.1.7 and will be removed in 1.0. Use :meth:`~invoke` instead.\n",
            "  return llm.predict(prompt)\n"
          ]
        },
        {
          "output_type": "stream",
          "name": "stdout",
          "text": [
            "\n",
            "Observation: \u001b[36;1m\u001b[1;3mMachine learning (ML) is a branch of artificial intelligence (AI) that focuses on enabling computers and machines to imitate how humans learn. This allows them to perform tasks autonomously and improve their performance and accuracy through experience and exposure to more data. ML algorithms make predictions or classifications based on input data, evaluate these predictions using an error function, and then optimize the model by adjusting weights until a desired level of accuracy is achieved.\u001b[0m\n",
            "Thought:\u001b[32;1m\u001b[1;3mI now know the final answer\n",
            "Final Answer: Machine learning is a branch of AI that enables computers to learn from data, improve their performance, and make predictions or classifications without explicit programming.\u001b[0m\n",
            "\n",
            "\u001b[1m> Finished chain.\u001b[0m\n",
            "Machine learning is a branch of AI that enables computers to learn from data, improve their performance, and make predictions or classifications without explicit programming.\n"
          ]
        }
      ]
    }
  ]
}